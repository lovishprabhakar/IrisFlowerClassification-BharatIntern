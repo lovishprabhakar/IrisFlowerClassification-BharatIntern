{
 "cells": [
  {
   "cell_type": "code",
   "execution_count": 1,
   "id": "a5f18d5b",
   "metadata": {},
   "outputs": [],
   "source": [
    "import pandas as pd\n",
    "import numpy as np\n",
    "import seaborn as sns\n",
    "import matplotlib.pyplot as plt\n",
    "%matplotlib inline"
   ]
  },
  {
   "cell_type": "code",
   "execution_count": null,
   "id": "afc38a03",
   "metadata": {},
   "outputs": [],
   "source": [
    "import warnings\n",
    "warnings.filterwarnings('ignore')"
   ]
  },
  {
   "cell_type": "code",
   "execution_count": null,
   "id": "d9911fdd",
   "metadata": {},
   "outputs": [],
   "source": [
    "from sklearn.model_selection import train_test_split"
   ]
  },
  {
   "cell_type": "code",
   "execution_count": null,
   "id": "ecc51a59",
   "metadata": {},
   "outputs": [],
   "source": [
    "from sklearn.tree import DecisionTreeClassifier"
   ]
  },
  {
   "cell_type": "code",
   "execution_count": null,
   "id": "23d7d4df",
   "metadata": {},
   "outputs": [],
   "source": [
    "from sklearn.metrics import classification_report, confusion_matrix"
   ]
  },
  {
   "cell_type": "code",
   "execution_count": null,
   "id": "6dbb9287",
   "metadata": {},
   "outputs": [],
   "source": [
    "from sklearn import tree"
   ]
  },
  {
   "cell_type": "code",
   "execution_count": null,
   "id": "2e1741b2",
   "metadata": {},
   "outputs": [],
   "source": [
    "#reading the csv file\n",
    "\n",
    "data = pd.read_csv(\"IRIS.csv\")"
   ]
  },
  {
   "cell_type": "code",
   "execution_count": null,
   "id": "9b689b63",
   "metadata": {},
   "outputs": [],
   "source": [
    "data"
   ]
  },
  {
   "cell_type": "code",
   "execution_count": null,
   "id": "8ec97535",
   "metadata": {},
   "outputs": [],
   "source": [
    "data.head(10)"
   ]
  },
  {
   "cell_type": "code",
   "execution_count": null,
   "id": "224d3cf1",
   "metadata": {},
   "outputs": [],
   "source": [
    "#splitting the dataset in trainset and testset\n",
    "\n",
    "x = data.drop(\"Species\",axis=1)\n",
    "\n",
    "y = data['Species']\n",
    "\n",
    "x_train, x_test, y_train, y_test = train_test_split(x, y, test_size = 0.2, random_state = 101 )"
   ]
  },
  {
   "cell_type": "code",
   "execution_count": null,
   "id": "260579d7",
   "metadata": {},
   "outputs": [],
   "source": [
    "#training the dataset\n",
    "\n",
    "d_tree = DecisionTreeClassifier()\n",
    "\n",
    "d_tree.fit(x_train, y_train)"
   ]
  },
  {
   "cell_type": "code",
   "execution_count": null,
   "id": "0389a71d",
   "metadata": {},
   "outputs": [],
   "source": [
    "#testing the dataset for predictions\n",
    "\n",
    "prediction = d_tree.predict(x_test)\n",
    "prediction"
   ]
  },
  {
   "cell_type": "code",
   "execution_count": null,
   "id": "ad000b36",
   "metadata": {},
   "outputs": [],
   "source": [
    "print(classification_report(y_test, prediction))\n",
    "print('\\n')\n",
    "print(confusion_matrix(y_test, prediction))"
   ]
  },
  {
   "cell_type": "code",
   "execution_count": null,
   "id": "879b887c",
   "metadata": {},
   "outputs": [],
   "source": [
    "x = [[5.2,3.0,2.0,0.7]]\n",
    "y = d_tree.predict(x)\n",
    "print(y)"
   ]
  },
  {
   "cell_type": "code",
   "execution_count": null,
   "id": "ec15d332",
   "metadata": {},
   "outputs": [],
   "source": [
    "#visualizing the decision tree\n",
    "\n",
    "plt.figure(figsize=(10,10))\n",
    "tree.plot_tree(d_tree, filled = True)"
   ]
  },
  {
   "cell_type": "code",
   "execution_count": null,
   "id": "0d37e9f6",
   "metadata": {},
   "outputs": [],
   "source": []
  }
 ],
 "metadata": {
  "kernelspec": {
   "display_name": "Python 3 (ipykernel)",
   "language": "python",
   "name": "python3"
  },
  "language_info": {
   "codemirror_mode": {
    "name": "ipython",
    "version": 3
   },
   "file_extension": ".py",
   "mimetype": "text/x-python",
   "name": "python",
   "nbconvert_exporter": "python",
   "pygments_lexer": "ipython3",
   "version": "3.11.4"
  }
 },
 "nbformat": 4,
 "nbformat_minor": 5
}
